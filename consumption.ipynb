{
 "cells": [
  {
   "cell_type": "code",
   "execution_count": 10,
   "metadata": {},
   "outputs": [
    {
     "data": {
      "text/plain": [
       "<BarContainer object of 12 artists>"
      ]
     },
     "execution_count": 10,
     "metadata": {},
     "output_type": "execute_result"
    },
    {
     "data": {
      "image/png": "[encoded data removed]",
      "text/plain": [
       "<Figure size 432x288 with 1 Axes>"
      ]
     },
     "metadata": {},
     "output_type": "display_data"
    }
   ],
   "source": [
    "from operator import add\n",
    "import matplotlib.pyplot as plt\n",
    "import pandas as pd\n",
    "\n",
    "xheaders=[]\n",
    "barPlotValue=[]\n",
    "\n",
    "rdd1 = sc.textFile(\"/home/shayal/Billed_Consumption_SW4_sub-division.csv\")\n",
    "rdd2=rdd1.filter(lambda c:\"-1\" not in c).filter(lambda c:\"-2\" not in c).filter(lambda c:\",0,\" not in c).filter(lambda c: \",,\" not in c)\n",
    "rdd3=rdd2.map(lambda x: (x.split(\",\")[3], int(x.split(\",\")[5])+int(x.split(\",\")[6])+int(x.split(\",\")[7])+int(x.split(\",\")[8])+int(x.split(\",\")[9])+int(x.split(\",\")[10])+int(x.split(\",\")[11])+int(x.split(\",\")[12])+int(x.split(\",\")[13])+int(x.split(\",\")[14])+int(x.split(\",\")[15])+int(x.split(\",\")[16])))\n",
    "rdd4=rdd3.reduceByKey(add)\n",
    "rdd5=rdd4.map(lambda c:c[0]+\",\"+str(c[1]))\n",
    "rdd5.coalesce(1).saveAsTextFile(\"/home/shayal/countConnections\")\n",
    "with open(\"/home/shayal/countConnections/part-00000\") as f:\n",
    "\tfor line in f:\n",
    "\t\tdata=line.strip().split(\",\")\n",
    "\t\txheaders.append(data[0])\n",
    "\t\tbarPlotValue.append(int(data[1]))\n",
    "\n",
    "plt.xticks(rotation=90)\n",
    "plt.bar(xheaders,barPlotValue)"
   ]
  },
  {
   "cell_type": "code",
   "execution_count": null,
   "metadata": {},
   "outputs": [],
   "source": []
  }
 ],
 "metadata": {
  "kernelspec": {
   "display_name": "Python 2",
   "language": "python",
   "name": "python2"
  },
  "language_info": {
   "codemirror_mode": {
    "name": "ipython",
    "version": 2
   },
   "file_extension": ".py",
   "mimetype": "text/x-python",
   "name": "python",
   "nbconvert_exporter": "python",
   "pygments_lexer": "ipython2",
   "version": "2.7.12"
  }
 },
 "nbformat": 4,
 "nbformat_minor": 2
}
